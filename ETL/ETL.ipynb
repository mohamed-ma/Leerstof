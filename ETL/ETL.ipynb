{
 "cells": [
  {
   "cell_type": "markdown",
   "id": "0b9bd2cb",
   "metadata": {},
   "source": [
    "# ETL\n",
    "\n",
    "Het extract - transform - load concept is een veel voorkomend begrip in (big) data toepassingen en geeft het stappenplan weer van de levenscyclus van de data binnen je toepassing.\n",
    "Het concept bestaat uit drie stappen:\n",
    "* extract: zoeken van data, inlezen en validatie\n",
    "* transform: verwerken van data, data cleaning, aggregatie, groupering, filtering, ...\n",
    "* load: opslaan van de getransformeerde data in een file, database, datawarehouse, datalake, ...\n",
    "\n",
    "In de rest van deze notebook gaan we bestuderen hoe deze stappen uit te voeren met Spark.\n",
    "Hiervoor gaan we een csv gebruiken als bronbestand."
   ]
  },
  {
   "cell_type": "markdown",
   "id": "43b4d7a1",
   "metadata": {},
   "source": [
    "## Extract\n",
    "\n",
    "In deze directory staat een zip file waarin deze csv is opgeslaan. \n",
    "Unzip deze file eerst en upload het naar het hdfs"
   ]
  },
  {
   "cell_type": "code",
   "execution_count": 1,
   "id": "10681358",
   "metadata": {},
   "outputs": [
    {
     "name": "stderr",
     "output_type": "stream",
     "text": [
      "2022-03-17 10:48:19,335 WARN util.NativeCodeLoader: Unable to load native-hadoop library for your platform... using builtin-java classes where applicable\n"
     ]
    },
    {
     "data": {
      "text/plain": [
       "0"
      ]
     },
     "execution_count": 1,
     "metadata": {},
     "output_type": "execute_result"
    }
   ],
   "source": [
    "import zipfile\n",
    "\n",
    "with zipfile.ZipFile(\"cars.zip\", 'r') as zip_ref:\n",
    "    zip_ref.extractall()\n",
    "    \n",
    "import pydoop.hdfs as hdfs\n",
    "\n",
    "localFS = hdfs.hdfs(host='')\n",
    "client = hdfs.hdfs(host='localhost', port=9000)\n",
    "\n",
    "if not client.exists('/user/bigdata/08_ETL'):\n",
    "    client.create_directory('/user/bigdata/08_ETL')\n",
    "\n",
    "# do some cleaning in case anything else than input is present on HDFS\n",
    "for f in client.list_directory(\".\"):\n",
    "    client.delete(f[\"name\"], True)\n",
    "        \n",
    "# upload input.txt\n",
    "hdfs_filename = \"08_ETL/cars.csv\"\n",
    "localFS.copy(\"cars.csv\", client, hdfs_filename)"
   ]
  },
  {
   "cell_type": "markdown",
   "id": "201b7992",
   "metadata": {},
   "source": [
    "Maak nu een locale sparkcontext aan en lees dit bestand in"
   ]
  },
  {
   "cell_type": "code",
   "execution_count": 4,
   "id": "c2336286",
   "metadata": {},
   "outputs": [],
   "source": [
    "from pyspark import SparkContext, SparkConf\n",
    "from pyspark.sql import SparkSession\n",
    "spark = SparkSession.builder.getOrCreate()"
   ]
  },
  {
   "cell_type": "code",
   "execution_count": 15,
   "id": "5a13e915",
   "metadata": {},
   "outputs": [],
   "source": [
    "df = spark.read.option(\"delimiter\", \",\").option(\"header\", True).csv(\"/user/bigdata/\" + hdfs_filename)\n",
    "# df = spark.read.csv(hdfs_filename, header=True, sep=\",\")\n"
   ]
  },
  {
   "cell_type": "markdown",
   "id": "f1963092",
   "metadata": {},
   "source": [
    "De datastructuur van het csv is als volgt:"
   ]
  },
  {
   "cell_type": "code",
   "execution_count": 17,
   "id": "be7c2042",
   "metadata": {},
   "outputs": [
    {
     "name": "stdout",
     "output_type": "stream",
     "text": [
      "root\n",
      " |-- manufacturer_name: string (nullable = true)\n",
      " |-- model_name: string (nullable = true)\n",
      " |-- transmission: string (nullable = true)\n",
      " |-- color: string (nullable = true)\n",
      " |-- odometer_value: string (nullable = true)\n",
      " |-- year_produced: string (nullable = true)\n",
      " |-- engine_fuel: string (nullable = true)\n",
      " |-- engine_has_gas: string (nullable = true)\n",
      " |-- engine_type: string (nullable = true)\n",
      " |-- engine_capacity: string (nullable = true)\n",
      " |-- body_type: string (nullable = true)\n",
      " |-- has_warranty: string (nullable = true)\n",
      " |-- state: string (nullable = true)\n",
      " |-- drivetrain: string (nullable = true)\n",
      " |-- price_usd: string (nullable = true)\n",
      " |-- is_exchangeable: string (nullable = true)\n",
      " |-- location_region: string (nullable = true)\n",
      " |-- number_of_photos: string (nullable = true)\n",
      " |-- up_counter: string (nullable = true)\n",
      " |-- feature_0: string (nullable = true)\n",
      " |-- feature_1: string (nullable = true)\n",
      " |-- feature_2: string (nullable = true)\n",
      " |-- feature_3: string (nullable = true)\n",
      " |-- feature_4: string (nullable = true)\n",
      " |-- feature_5: string (nullable = true)\n",
      " |-- feature_6: string (nullable = true)\n",
      " |-- feature_7: string (nullable = true)\n",
      " |-- feature_8: string (nullable = true)\n",
      " |-- feature_9: string (nullable = true)\n",
      " |-- duration_listed: string (nullable = true)\n",
      "\n"
     ]
    }
   ],
   "source": [
    "df.printSchema()"
   ]
  },
  {
   "cell_type": "markdown",
   "id": "1efc8148",
   "metadata": {},
   "source": [
    "## Transform\n",
    "\n",
    "De transform stap is de meest complexe stap van de drie en kan uit een grote verscheidenheid van bewerkingen bestaan, zoals:\n",
    "* Dataformaten aanpassen\n",
    "* Vertalingen van tekst\n",
    "* Geencodeerde waarden aanpassen: 0/1 vs true/false of m/f vs male/female\n",
    "* Allerhande data-cleaning stappen\n",
    "* Encoderen (Ordinal of One-hot) van categorieke kolommen\n",
    "* Groeperen van data\n",
    "* Uitvoeren van berekeningen \n",
    "* ...\n",
    "\n",
    "Schrijf hieronder eerst zelf de code om de volgende stappen uit te voeren:\n",
    "* Omzetten naar integer van de kolommen: odometer_value, year_produced, engine_capacity, price_usd, number_of_photos, up_counter, duration_listed\n",
    "* Omzetten naar boolean van de kolommen: engine_has_gas, has_warranty, is_exchangeable, feature_0 tot en met 9\n",
    "* Bereken het aantal null en nan waarden per kolom"
   ]
  },
  {
   "cell_type": "code",
   "execution_count": 65,
   "id": "eadd2f5c",
   "metadata": {},
   "outputs": [
    {
     "name": "stdout",
     "output_type": "stream",
     "text": [
      "root\n",
      " |-- manufacturer_name: string (nullable = true)\n",
      " |-- model_name: string (nullable = true)\n",
      " |-- transmission: string (nullable = true)\n",
      " |-- color: string (nullable = true)\n",
      " |-- odometer_value: integer (nullable = true)\n",
      " |-- year_produced: integer (nullable = true)\n",
      " |-- engine_fuel: string (nullable = true)\n",
      " |-- engine_has_gas: string (nullable = true)\n",
      " |-- engine_type: string (nullable = true)\n",
      " |-- engine_capacity: integer (nullable = true)\n",
      " |-- body_type: string (nullable = true)\n",
      " |-- has_warranty: string (nullable = true)\n",
      " |-- state: string (nullable = true)\n",
      " |-- drivetrain: string (nullable = true)\n",
      " |-- price_usd: integer (nullable = true)\n",
      " |-- is_exchangeable: string (nullable = true)\n",
      " |-- location_region: string (nullable = true)\n",
      " |-- number_of_photos: integer (nullable = true)\n",
      " |-- up_counter: integer (nullable = true)\n",
      " |-- feature_0: string (nullable = true)\n",
      " |-- feature_1: string (nullable = true)\n",
      " |-- feature_2: string (nullable = true)\n",
      " |-- feature_3: string (nullable = true)\n",
      " |-- feature_4: string (nullable = true)\n",
      " |-- feature_5: string (nullable = true)\n",
      " |-- feature_6: string (nullable = true)\n",
      " |-- feature_7: string (nullable = true)\n",
      " |-- feature_8: string (nullable = true)\n",
      " |-- feature_9: string (nullable = true)\n",
      " |-- duration_listed: integer (nullable = true)\n",
      "\n"
     ]
    }
   ],
   "source": [
    "# omzetten naar integer van bepaalde kolommen\n",
    "from pyspark.sql import SparkSession\n",
    "from pyspark.sql.functions import col,avg,sum,count,when\n",
    "\n",
    "spark = SparkSession.builder.config(\"spark.driver.cores\", 2).appName(\"Spark_les\").getOrCreate()\n",
    "df = spark.read.option(\"delimiter\", \",\").option(\"header\", True).csv(\"/user/bigdata/\" + hdfs_filename)\n",
    "\n",
    "\n",
    "#df.show(5, vertical=True)\n",
    "\n",
    "#df = df.select([col(c).cast(\"int\") for c in int_columns])\n",
    "#df.printSchema()\n",
    "int_columns = [\"odometer_value\", \"year_produced\", \"engine_capacity\", \"price_usd\", \"number_of_photos\", \"up_counter\", \"duration_listed\"]\n",
    "for c in int_columns:\n",
    "    df = df.withColumn(c, col(c).cast(\"int\"))\n",
    "#df = df.withColumn([col(c).cast(\"int\") for c in int_columns])\n",
    "df.printSchema()"
   ]
  },
  {
   "cell_type": "code",
   "execution_count": null,
   "id": "fa4ab062",
   "metadata": {},
   "outputs": [],
   "source": [
    "# omzetten naar boolean van bepaalde kolommen\n",
    "bool_columns = [\"engine_has_gas\", \"has_warranty\", \"is_exchangeable\"]\n",
    "for n in range(10):\n",
    "    bool_columns.append(\"feature_\" + str(n))\n",
    "bool_columns\n",
    "for c in bool_columns:\n",
    "    df = df.withColumn(c, col(c).cast(\"boolean\"))\n",
    "df.printSchema()"
   ]
  },
  {
   "cell_type": "code",
   "execution_count": 99,
   "id": "be33225b",
   "metadata": {},
   "outputs": [
    {
     "name": "stdout",
     "output_type": "stream",
     "text": [
      "+-------------------------------------------------------+------------------------------------------------+--------------------------------------------------+-------------------------------------------+----------------------------------------------------+---------------------------------------------------+-------------------------------------------------+----------------------------------------------------+-------------------------------------------------+-----------------------------------------------------+-----------------------------------------------+--------------------------------------------------+-------------------------------------------+------------------------------------------------+-----------------------------------------------+-----------------------------------------------------+-----------------------------------------------------+------------------------------------------------------+------------------------------------------------+-----------------------------------------------+-----------------------------------------------+-----------------------------------------------+-----------------------------------------------+-----------------------------------------------+-----------------------------------------------+-----------------------------------------------+-----------------------------------------------+-----------------------------------------------+-----------------------------------------------+-----------------------------------------------------+\n",
      "|count(CASE WHEN (manufacturer_name IS NULL) THEN 1 END)|count(CASE WHEN (model_name IS NULL) THEN 1 END)|count(CASE WHEN (transmission IS NULL) THEN 1 END)|count(CASE WHEN (color IS NULL) THEN 1 END)|count(CASE WHEN (odometer_value IS NULL) THEN 1 END)|count(CASE WHEN (year_produced IS NULL) THEN 1 END)|count(CASE WHEN (engine_fuel IS NULL) THEN 1 END)|count(CASE WHEN (engine_has_gas IS NULL) THEN 1 END)|count(CASE WHEN (engine_type IS NULL) THEN 1 END)|count(CASE WHEN (engine_capacity IS NULL) THEN 1 END)|count(CASE WHEN (body_type IS NULL) THEN 1 END)|count(CASE WHEN (has_warranty IS NULL) THEN 1 END)|count(CASE WHEN (state IS NULL) THEN 1 END)|count(CASE WHEN (drivetrain IS NULL) THEN 1 END)|count(CASE WHEN (price_usd IS NULL) THEN 1 END)|count(CASE WHEN (is_exchangeable IS NULL) THEN 1 END)|count(CASE WHEN (location_region IS NULL) THEN 1 END)|count(CASE WHEN (number_of_photos IS NULL) THEN 1 END)|count(CASE WHEN (up_counter IS NULL) THEN 1 END)|count(CASE WHEN (feature_0 IS NULL) THEN 1 END)|count(CASE WHEN (feature_1 IS NULL) THEN 1 END)|count(CASE WHEN (feature_2 IS NULL) THEN 1 END)|count(CASE WHEN (feature_3 IS NULL) THEN 1 END)|count(CASE WHEN (feature_4 IS NULL) THEN 1 END)|count(CASE WHEN (feature_5 IS NULL) THEN 1 END)|count(CASE WHEN (feature_6 IS NULL) THEN 1 END)|count(CASE WHEN (feature_7 IS NULL) THEN 1 END)|count(CASE WHEN (feature_8 IS NULL) THEN 1 END)|count(CASE WHEN (feature_9 IS NULL) THEN 1 END)|count(CASE WHEN (duration_listed IS NULL) THEN 1 END)|\n",
      "+-------------------------------------------------------+------------------------------------------------+--------------------------------------------------+-------------------------------------------+----------------------------------------------------+---------------------------------------------------+-------------------------------------------------+----------------------------------------------------+-------------------------------------------------+-----------------------------------------------------+-----------------------------------------------+--------------------------------------------------+-------------------------------------------+------------------------------------------------+-----------------------------------------------+-----------------------------------------------------+-----------------------------------------------------+------------------------------------------------------+------------------------------------------------+-----------------------------------------------+-----------------------------------------------+-----------------------------------------------+-----------------------------------------------+-----------------------------------------------+-----------------------------------------------+-----------------------------------------------+-----------------------------------------------+-----------------------------------------------+-----------------------------------------------+-----------------------------------------------------+\n",
      "|                                                      0|                                               0|                                                 0|                                          0|                                                   0|                                                  0|                                                0|                                                   0|                                                0|                                                   10|                                              0|                                                 0|                                          0|                                               0|                                              0|                                                    0|                                                    0|                                                     0|                                               0|                                              0|                                              0|                                              0|                                              0|                                              0|                                              0|                                              0|                                              0|                                              0|                                              0|                                                    0|\n",
      "+-------------------------------------------------------+------------------------------------------------+--------------------------------------------------+-------------------------------------------+----------------------------------------------------+---------------------------------------------------+-------------------------------------------------+----------------------------------------------------+-------------------------------------------------+-----------------------------------------------------+-----------------------------------------------+--------------------------------------------------+-------------------------------------------+------------------------------------------------+-----------------------------------------------+-----------------------------------------------------+-----------------------------------------------------+------------------------------------------------------+------------------------------------------------+-----------------------------------------------+-----------------------------------------------+-----------------------------------------------+-----------------------------------------------+-----------------------------------------------+-----------------------------------------------+-----------------------------------------------+-----------------------------------------------+-----------------------------------------------+-----------------------------------------------+-----------------------------------------------------+\n",
      "\n"
     ]
    }
   ],
   "source": [
    "from pyspark.sql.functions import isnan, when, count, col\n",
    "\n",
    "df.select([count(when(col(c).isNull(), 1)) for c in df.columns]).show()"
   ]
  },
  {
   "cell_type": "code",
   "execution_count": null,
   "id": "dd83437b",
   "metadata": {},
   "outputs": [],
   "source": []
  },
  {
   "cell_type": "markdown",
   "id": "0a7cee12",
   "metadata": {},
   "source": [
    "In bovenstaande code kan je zien dat er slechts een aantal null-waarden in de dataset aanwezig zijn.\n",
    "Deze kunnen ingevuld worden door middel van een [imputer](https://spark.apache.org/docs/latest/api/python/reference/api/pyspark.ml.feature.Imputer.html).\n",
    "Hier laten we deze rijen echter gewoon vallen voor de eenvoud:"
   ]
  },
  {
   "cell_type": "code",
   "execution_count": 102,
   "id": "653829e0",
   "metadata": {},
   "outputs": [
    {
     "data": {
      "text/plain": [
       "38521"
      ]
     },
     "execution_count": 102,
     "metadata": {},
     "output_type": "execute_result"
    }
   ],
   "source": [
    "df = df.na.drop()\n",
    "df.count()\n"
   ]
  },
  {
   "cell_type": "markdown",
   "id": "6a6c3367",
   "metadata": {},
   "source": [
    "De oefening om de waarden in te vullen met een imputer (bvb door het gemiddelde) kan je hieronder doen."
   ]
  },
  {
   "cell_type": "code",
   "execution_count": null,
   "id": "b7eedb3b",
   "metadata": {},
   "outputs": [],
   "source": [
    "# gemiddelde berekenen en nadien die waarde invullen met .fillna()\n",
    "\n",
    "df.fillna({gemiddle hier}, subset=[\"engine_capacity\"])"
   ]
  },
  {
   "cell_type": "markdown",
   "id": "021a7e58",
   "metadata": {},
   "source": [
    "Bereken nu de volgende waarden van de beschikbare data:\n",
    "* Aantal autos per merk\n",
    "* Welke verschillende types van transmissie zijn er?\n",
    "* Marktaandeel (percentage) van de verschillende types motor?\n",
    "* Maximum prijs van elk merk\n",
    "* Wat zijn de vijf goedkoopste voertuigen met een automatische transmissie?"
   ]
  },
  {
   "cell_type": "code",
   "execution_count": 70,
   "id": "99670921",
   "metadata": {},
   "outputs": [
    {
     "name": "stdout",
     "output_type": "stream",
     "text": [
      "+-----------------+-----+\n",
      "|manufacturer_name|count|\n",
      "+-----------------+-----+\n",
      "|       Volkswagen| 4243|\n",
      "|            Lexus|  213|\n",
      "|           Jaguar|   53|\n",
      "|            Rover|  235|\n",
      "|           Lancia|   92|\n",
      "|             Jeep|  107|\n",
      "|       Mitsubishi|  887|\n",
      "|              Kia|  912|\n",
      "|             Mini|   68|\n",
      "|            Lifan|   47|\n",
      "|             LADA|  146|\n",
      "|        SsangYong|   79|\n",
      "|             Audi| 2468|\n",
      "|             Seat|  303|\n",
      "|         Cadillac|   43|\n",
      "|          Москвич|   55|\n",
      "|       Alfa Romeo|  207|\n",
      "|            Geely|   71|\n",
      "|          Renault| 2493|\n",
      "|           Daewoo|  221|\n",
      "+-----------------+-----+\n",
      "only showing top 20 rows\n",
      "\n"
     ]
    }
   ],
   "source": [
    "# autos per merk\n",
    "df.groupby(\"manufacturer_name\").count().show()"
   ]
  },
  {
   "cell_type": "code",
   "execution_count": 71,
   "id": "ed1f3bad",
   "metadata": {},
   "outputs": [
    {
     "name": "stdout",
     "output_type": "stream",
     "text": [
      "+------------+-----+\n",
      "|transmission|count|\n",
      "+------------+-----+\n",
      "|   automatic|12898|\n",
      "|  mechanical|25633|\n",
      "+------------+-----+\n",
      "\n"
     ]
    }
   ],
   "source": [
    "# types transmissie\n",
    "df.groupby(\"transmission\").count().show()\n",
    "# df.select(\"transmission\").distinct().show()"
   ]
  },
  {
   "cell_type": "code",
   "execution_count": 103,
   "id": "5629e72c",
   "metadata": {},
   "outputs": [
    {
     "name": "stdout",
     "output_type": "stream",
     "text": [
      "+-----------+-----+-------------------+\n",
      "|engine_type|count|       marktAandeel|\n",
      "+-----------+-----+-------------------+\n",
      "|   gasoline|25647| 0.6657926845097479|\n",
      "|     diesel|12874|0.33420731549025207|\n",
      "+-----------+-----+-------------------+\n",
      "\n"
     ]
    }
   ],
   "source": [
    "# marktaandeel\n",
    "totaal = df.count()\n",
    "df_aandeel = df.groupby('engine_type').count()\n",
    "df_aandeel = df_aandeel.withColumn(\"marktAandeel\", col(\"count\") / totaal).show()"
   ]
  },
  {
   "cell_type": "code",
   "execution_count": 92,
   "id": "b0763a14",
   "metadata": {},
   "outputs": [
    {
     "name": "stdout",
     "output_type": "stream",
     "text": [
      "+-----------------+--------------+\n",
      "|manufacturer_name|max(price_usd)|\n",
      "+-----------------+--------------+\n",
      "|       Volkswagen|         43999|\n",
      "|            Lexus|         48610|\n",
      "|           Jaguar|         50000|\n",
      "|            Rover|          9900|\n",
      "|           Lancia|          9500|\n",
      "|             Jeep|         43000|\n",
      "|       Mitsubishi|         31400|\n",
      "|              Kia|         44700|\n",
      "|             Mini|         39456|\n",
      "|            Lifan|         15750|\n",
      "|             LADA|         13800|\n",
      "|        SsangYong|         15900|\n",
      "|             Audi|         46750|\n",
      "|             Seat|         18350|\n",
      "|         Cadillac|         25750|\n",
      "|          Москвич|         10000|\n",
      "|       Alfa Romeo|         22000|\n",
      "|            Geely|         22479|\n",
      "|          Renault|         30304|\n",
      "|           Daewoo|          6700|\n",
      "+-----------------+--------------+\n",
      "only showing top 20 rows\n",
      "\n"
     ]
    }
   ],
   "source": [
    "# maximum prijs per merk\n",
    "df.groupby(\"manufacturer_name\").max(\"price_usd\").show()"
   ]
  },
  {
   "cell_type": "code",
   "execution_count": 115,
   "id": "88c60474",
   "metadata": {},
   "outputs": [
    {
     "ename": "AttributeError",
     "evalue": "'DataFrame' object has no attribute 'asc'",
     "output_type": "error",
     "traceback": [
      "\u001b[0;31m---------------------------------------------------------------------------\u001b[0m",
      "\u001b[0;31mAttributeError\u001b[0m                            Traceback (most recent call last)",
      "\u001b[0;32m/tmp/ipykernel_9601/998335111.py\u001b[0m in \u001b[0;36m<module>\u001b[0;34m\u001b[0m\n\u001b[1;32m      1\u001b[0m \u001b[0;31m# goedkoopste voertuigen met automatische transmissie\u001b[0m\u001b[0;34m\u001b[0m\u001b[0;34m\u001b[0m\u001b[0;34m\u001b[0m\u001b[0m\n\u001b[1;32m      2\u001b[0m \u001b[0;31m#df.filter(df.transmission == \"automatic\").groupby(\"manufacturer_name\").min(\"price_usd\").show(5)\u001b[0m\u001b[0;34m\u001b[0m\u001b[0;34m\u001b[0m\u001b[0;34m\u001b[0m\u001b[0m\n\u001b[0;32m----> 3\u001b[0;31m \u001b[0mdf_result\u001b[0m \u001b[0;34m=\u001b[0m \u001b[0mdf\u001b[0m\u001b[0;34m.\u001b[0m\u001b[0mfilter\u001b[0m\u001b[0;34m(\u001b[0m\u001b[0mdf\u001b[0m\u001b[0;34m.\u001b[0m\u001b[0mtransmission\u001b[0m \u001b[0;34m==\u001b[0m \u001b[0;34m\"automatic\"\u001b[0m\u001b[0;34m)\u001b[0m\u001b[0;34m.\u001b[0m\u001b[0msort\u001b[0m\u001b[0;34m(\u001b[0m\u001b[0mcol\u001b[0m\u001b[0;34m(\u001b[0m\u001b[0;34m\"price_usd\"\u001b[0m\u001b[0;34m)\u001b[0m\u001b[0;34m)\u001b[0m\u001b[0;34m.\u001b[0m\u001b[0masc\u001b[0m\u001b[0;34m(\u001b[0m\u001b[0;34m\"price_usd\"\u001b[0m\u001b[0;34m)\u001b[0m\u001b[0;34m.\u001b[0m\u001b[0mlimit\u001b[0m\u001b[0;34m(\u001b[0m\u001b[0;36m5\u001b[0m\u001b[0;34m)\u001b[0m\u001b[0;34m\u001b[0m\u001b[0;34m\u001b[0m\u001b[0m\n\u001b[0m\u001b[1;32m      4\u001b[0m \u001b[0mdf_result\u001b[0m\u001b[0;34m.\u001b[0m\u001b[0mshow\u001b[0m\u001b[0;34m(\u001b[0m\u001b[0;34m)\u001b[0m\u001b[0;34m\u001b[0m\u001b[0;34m\u001b[0m\u001b[0m\n",
      "\u001b[0;32m~/anaconda3/lib/python3.8/site-packages/pyspark/sql/dataframe.py\u001b[0m in \u001b[0;36m__getattr__\u001b[0;34m(self, name)\u001b[0m\n\u001b[1;32m   1657\u001b[0m         \"\"\"\n\u001b[1;32m   1658\u001b[0m         \u001b[0;32mif\u001b[0m \u001b[0mname\u001b[0m \u001b[0;32mnot\u001b[0m \u001b[0;32min\u001b[0m \u001b[0mself\u001b[0m\u001b[0;34m.\u001b[0m\u001b[0mcolumns\u001b[0m\u001b[0;34m:\u001b[0m\u001b[0;34m\u001b[0m\u001b[0;34m\u001b[0m\u001b[0m\n\u001b[0;32m-> 1659\u001b[0;31m             raise AttributeError(\n\u001b[0m\u001b[1;32m   1660\u001b[0m                 \"'%s' object has no attribute '%s'\" % (self.__class__.__name__, name))\n\u001b[1;32m   1661\u001b[0m         \u001b[0mjc\u001b[0m \u001b[0;34m=\u001b[0m \u001b[0mself\u001b[0m\u001b[0;34m.\u001b[0m\u001b[0m_jdf\u001b[0m\u001b[0;34m.\u001b[0m\u001b[0mapply\u001b[0m\u001b[0;34m(\u001b[0m\u001b[0mname\u001b[0m\u001b[0;34m)\u001b[0m\u001b[0;34m\u001b[0m\u001b[0;34m\u001b[0m\u001b[0m\n",
      "\u001b[0;31mAttributeError\u001b[0m: 'DataFrame' object has no attribute 'asc'"
     ]
    }
   ],
   "source": [
    "# goedkoopste voertuigen met automatische transmissie\n",
    "#df.filter(df.transmission == \"automatic\").groupby(\"manufacturer_name\").min(\"price_usd\").show(5)\n",
    "df_result = df.filter(df.transmission == \"automatic\").sort(col(\"price_usd\")).asc(\"price_usd\").limit(5)\n",
    "df_result.show()"
   ]
  },
  {
   "cell_type": "markdown",
   "id": "d35b2a40",
   "metadata": {},
   "source": [
    "## Load\n",
    "\n",
    "In deze stap veronderstellen we dat we enkel de 5 goedkoopste auto's willen bewaren.\n",
    "Schrijf hieronder de benodigde code om de informatie van deze autos op te slaan in een json."
   ]
  },
  {
   "cell_type": "code",
   "execution_count": null,
   "id": "7badc7ab",
   "metadata": {},
   "outputs": [],
   "source": [
    "df_result.write.format(\"json\").save(\"08_ETL/result.json\")"
   ]
  },
  {
   "cell_type": "markdown",
   "id": "a3b2bab6",
   "metadata": {},
   "source": [
    "Dit is een voorbeeld waarbij de resultaten worden opgeslaan in een bestand.\n",
    "Andere mogelijkheden zijn om het op te slaan in een SQL-database.\n",
    "Demo-code om dit te bereiken kan je [hier](https://kontext.tech/column/spark/395/save-dataframe-to-sql-databases-via-jdbc-in-pyspark) bekijken.\n",
    "Later in dit vak zullen we ook NoSQL-databases bekijken.\n",
    "Op dat moment zullen we zien hoe we de resultaten kunnen bewaren in dit type database beheersystemen (DBMS)."
   ]
  }
 ],
 "metadata": {
  "kernelspec": {
   "display_name": "Python 3 (ipykernel)",
   "language": "python",
   "name": "python3"
  },
  "language_info": {
   "codemirror_mode": {
    "name": "ipython",
    "version": 3
   },
   "file_extension": ".py",
   "mimetype": "text/x-python",
   "name": "python",
   "nbconvert_exporter": "python",
   "pygments_lexer": "ipython3",
   "version": "3.8.8"
  }
 },
 "nbformat": 4,
 "nbformat_minor": 5
}
